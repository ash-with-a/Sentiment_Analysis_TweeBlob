{
 "cells": [
  {
   "cell_type": "code",
   "execution_count": 1,
   "metadata": {},
   "outputs": [
    {
     "name": "stdout",
     "output_type": "stream",
     "text": [
      "RT @mdeligt_04: In my recent interview, I was not clear with my response. In order to clear any doubts: I am absolutely in favour of the CO…\n",
      "Sentiment(polarity=0.0625, subjectivity=0.47916666666666663)\n",
      "Positive\n",
      "RT @niswarth: @Drvilasjagdale https://t.co/zac47TXQEe \n",
      "Jagdale saheb ye dekho aisa chal raha hai ab to\n",
      "Sentiment(polarity=0.0, subjectivity=0.0)\n",
      "Neutral\n",
      "RT @MeghUpdates: Video : Long queues outside vaccination centres in China as People struggle to get inoculated amidst Resurgent COVID-19 ou…\n",
      "Sentiment(polarity=-0.025, subjectivity=0.225)\n",
      "Negative\n",
      "@metallimoi @BiliSeijo @dr_l_alexandre pis, y a eux aussi... https://t.co/G53hyTD7hU\n",
      "Sentiment(polarity=0.0, subjectivity=0.0)\n",
      "Neutral\n",
      "RT @ESPNFC: Matthijs de Ligt clears up his position on a COVID-19 vaccination. https://t.co/iGfYUallNm\n",
      "Sentiment(polarity=0.0, subjectivity=0.0)\n",
      "Neutral\n",
      "RT @HaileyburyUK: This week, our pupils involved in the Attlee Society were joined on Zoom by @nadhimzahawi the Under Secretary of State fo…\n",
      "Sentiment(polarity=0.0, subjectivity=0.0)\n",
      "Neutral\n",
      "RT @TOILucknow: Lucknow: The city on Friday recorded lowest Covid-19 daily cases in 71 days while the number of vaccination was the highest…\n",
      "Sentiment(polarity=0.0, subjectivity=0.0)\n",
      "Neutral\n",
      "what's with Lawmakers ask Biden to reopen border considering COVID-19 vaccination rates\n",
      "Sentiment(polarity=0.0, subjectivity=0.0)\n",
      "Neutral\n",
      "RT @mdeligt_04: In my recent interview, I was not clear with my response. In order to clear any doubts: I am absolutely in favour of the CO…\n",
      "Sentiment(polarity=0.0625, subjectivity=0.47916666666666663)\n",
      "Positive\n",
      "The preprint “COVID-19 Vaccination in California: Are We Equitab…” (https://t.co/ktk0SzGwn3) has been reviewed by a… https://t.co/dVfI6mtQku\n",
      "Sentiment(polarity=0.0, subjectivity=0.0)\n",
      "Neutral\n",
      "RT @mdeligt_04: In my recent interview, I was not clear with my response. In order to clear any doubts: I am absolutely in favour of the CO…\n",
      "Sentiment(polarity=0.0625, subjectivity=0.47916666666666663)\n",
      "Positive\n",
      "RT @mdeligt_04: In my recent interview, I was not clear with my response. In order to clear any doubts: I am absolutely in favour of the CO…\n",
      "Sentiment(polarity=0.0625, subjectivity=0.47916666666666663)\n",
      "Positive\n",
      "New availabilities: Walgreens\n",
      "Cities: BRISTOL, CLEVELAND, CROSSVILLE, DAYTON, FARRAGUT, JAMESTOWN, KNOXVILLE, ROCKW… https://t.co/QxUpRh4Y7g\n",
      "Sentiment(polarity=0.13636363636363635, subjectivity=0.45454545454545453)\n",
      "Positive\n",
      "RT @mdeligt_04: In my recent interview, I was not clear with my response. In order to clear any doubts: I am absolutely in favour of the CO…\n",
      "Sentiment(polarity=0.0625, subjectivity=0.47916666666666663)\n",
      "Positive\n",
      "RT @mdeligt_04: In my recent interview, I was not clear with my response. In order to clear any doubts: I am absolutely in favour of the CO…\n",
      "Sentiment(polarity=0.0625, subjectivity=0.47916666666666663)\n",
      "Positive\n"
     ]
    }
   ],
   "source": [
    "import tweepy\n",
    "from textblob import TextBlob\n",
    "\n",
    "consumer_key = 'oZ5Ab6OgLjJTa9Dg98GiTlZg8'\n",
    "consumer_secret = 'sZdQNca3LpbPtlIV2gQsdElZM52tbKJeshtKr77vuyKfTjffMX'\n",
    "\n",
    "access_token = '808205586-orf4z22o8AdfoNm4V2dAnLKmX39jQJi0c24Y35LY'\n",
    "access_token_secret = 'TVoc5FD7SnU8E7CP0MDYNAuHghYOYtnSHiOpGnAkURa1N'\n",
    "\n",
    "auth = tweepy.OAuthHandler(consumer_key, consumer_secret)\n",
    "\n",
    "auth.set_access_token(access_token, access_token_secret)\n",
    "\n",
    "api = tweepy.API(auth)\n",
    "\n",
    "public_tweets = api.search('COVID-19 vaccination')\n",
    "\n",
    "\n",
    "for tweet in public_tweets:\n",
    "    print(tweet.text)\n",
    "    analysis = TextBlob(tweet.text)\n",
    "    print(analysis.sentiment)\n",
    "    if analysis.sentiment[0]>0:\n",
    "        print('Positive')\n",
    "    elif analysis.sentiment[0]<0:\n",
    "        print('Negative')\n",
    "    else: \n",
    "        print('Neutral')"
   ]
  },
  {
   "cell_type": "code",
   "execution_count": null,
   "metadata": {},
   "outputs": [],
   "source": []
  }
 ],
 "metadata": {
  "kernelspec": {
   "display_name": "Python 3",
   "language": "python",
   "name": "python3"
  },
  "language_info": {
   "codemirror_mode": {
    "name": "ipython",
    "version": 3
   },
   "file_extension": ".py",
   "mimetype": "text/x-python",
   "name": "python",
   "nbconvert_exporter": "python",
   "pygments_lexer": "ipython3",
   "version": "3.7.3"
  }
 },
 "nbformat": 4,
 "nbformat_minor": 2
}
