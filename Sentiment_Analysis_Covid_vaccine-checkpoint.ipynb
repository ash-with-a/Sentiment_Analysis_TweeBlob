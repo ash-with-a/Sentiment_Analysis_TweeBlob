{
 "cells": [
  {
   "cell_type": "code",
   "execution_count": 1,
   "metadata": {},
   "outputs": [
    {
     "name": "stdout",
     "output_type": "stream",
     "text": [
      "RT @FLHealthCitrus: In observance of #MemorialDay, @FLHealthCitrus will be closed on Monday, 5/31. We will reopen at our regularly schedule…\n",
      "Sentiment(polarity=-0.05, subjectivity=0.08846153846153847)\n",
      "https://t.co/NnFCFDinc0\n",
      "#εμβολιο\n",
      "#κανονικοτητα\n",
      "#ΙατρικηΔικτατορια\n",
      "#ΥγειονομικηΔικτατορια\n",
      "#covid19Gr\n",
      "#Covid_19… https://t.co/4QGKmiGj7i\n",
      "Sentiment(polarity=0.0, subjectivity=0.0)\n",
      "RT @PokeKellz: The smallest injectable microchip available needs to be injected with a 18 gauge needle. The Covid-19 vaccine is injected wi…\n",
      "Sentiment(polarity=0.4, subjectivity=0.4)\n",
      "Et croyez pas que c'est une métaphore https://t.co/ySSbg6NPs7\n",
      "Sentiment(polarity=0.0, subjectivity=0.0)\n",
      "RT @CBCNews: Dr. Theresa Tam said today that strict public health measures and a ramped-up vaccination campaign have pushed the national CO…\n",
      "Sentiment(polarity=0.0, subjectivity=0.06666666666666667)\n",
      "RT @thewire_in: Rahul Gandhi, who is currently recovering from COVID-19, said that “the buck stops with the PM”, and accused his lack of fo…\n",
      "Sentiment(polarity=0.0, subjectivity=0.4)\n",
      "RT @PokeKellz: The smallest injectable microchip available needs to be injected with a 18 gauge needle. The Covid-19 vaccine is injected wi…\n",
      "Sentiment(polarity=0.4, subjectivity=0.4)\n",
      "RT @hartgroup_org: Widely ignored in mainstream broadcast media and the vast majority of print media, a number of groups have now written o…\n",
      "Sentiment(polarity=-0.05, subjectivity=0.7)\n",
      "Don't give me that \"mental health\" excuse. https://t.co/n1BaeIZCAg\n",
      "Sentiment(polarity=-0.07500000000000001, subjectivity=0.125)\n",
      "RT @ctvottawa: NEW: The city of Ottawa and Ottawa Public Health will hold a series of pop-up COVID-19 vaccination clinics next week to reac…\n",
      "Sentiment(polarity=0.04545454545454545, subjectivity=0.17373737373737375)\n",
      "RT @MarcGozlan: #COVID19 : l’Allemagne ouvre la vaccination aux plus de 12 ans. Cette ouverture prochaine de la vaccination aux 12-15 ans n…\n",
      "Sentiment(polarity=0.0, subjectivity=0.0)\n",
      "RT @PokeKellz: The smallest injectable microchip available needs to be injected with a 18 gauge needle. The Covid-19 vaccine is injected wi…\n",
      "Sentiment(polarity=0.4, subjectivity=0.4)\n",
      "RT @RegionofHalton: #HaltonON COVID-19 vaccination program update: As of Thursday, May 27, 316,607 Halton residents (64%) have received at…\n",
      "Sentiment(polarity=0.0, subjectivity=0.0)\n",
      "RT @drsimonegold: WOW: The City of San Francisco is now allowing children as young as 12 to “consent” to the COVID-19 vaccination.\n",
      "\n",
      "This is…\n",
      "Sentiment(polarity=0.1, subjectivity=0.7)\n",
      "The city of Ottawa and Ottawa Public Health will hold a series of pop-up COVID-19 vaccination clinics next week to… https://t.co/DFfwteIiu7\n",
      "Sentiment(polarity=0.0, subjectivity=0.03333333333333333)\n"
     ]
    }
   ],
   "source": [
    "import tweepy\n",
    "from textblob import TextBlob\n",
    "consumer_key = 'oZ5Ab6OgLjJTa9Dg98GiTlZg8'\n",
    "consumer_secret = 'sZdQNca3LpbPtlIV2gQsdElZM52tbKJeshtKr77vuyKfTjffMX'\n",
    "access_token = '808205586-orf4z22o8AdfoNm4V2dAnLKmX39jQJi0c24Y35LY'\n",
    "access_token_secret = 'TVoc5FD7SnU8E7CP0MDYNAuHghYOYtnSHiOpGnAkURa1N'\n",
    "auth = tweepy.OAuthHandler(consumer_key, consumer_secret)\n",
    "auth.set_access_token(access_token, access_token_secret)\n",
    "api = tweepy.API(auth)\n",
    "public_tweets = api.search('COVID-19 vaccination')\n",
    "for tweet in public_tweets:\n",
    "    print(tweet.text)\n",
    "    analysis = TextBlob(tweet.text)\n",
    "    print(analysis.sentiment)"
   ]
  },
  {
   "cell_type": "code",
   "execution_count": null,
   "metadata": {},
   "outputs": [],
   "source": []
  }
 ],
 "metadata": {
  "kernelspec": {
   "display_name": "Python 3",
   "language": "python",
   "name": "python3"
  },
  "language_info": {
   "codemirror_mode": {
    "name": "ipython",
    "version": 3
   },
   "file_extension": ".py",
   "mimetype": "text/x-python",
   "name": "python",
   "nbconvert_exporter": "python",
   "pygments_lexer": "ipython3",
   "version": "3.7.3"
  }
 },
 "nbformat": 4,
 "nbformat_minor": 2
}
