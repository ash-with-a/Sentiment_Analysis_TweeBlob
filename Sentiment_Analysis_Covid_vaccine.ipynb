{
  "nbformat": 4,
  "nbformat_minor": 0,
  "metadata": {
    "colab": {
      "name": "Sentiment_Analysis_Covid_vaccine.ipynb",
      "provenance": [],
      "authorship_tag": "ABX9TyMrLpRatpovS4XhJmXGTRwL"
    },
    "kernelspec": {
      "name": "python3",
      "display_name": "Python 3"
    },
    "language_info": {
      "name": "python"
    }
  },
  "cells": [
    {
      "cell_type": "code",
      "metadata": {
        "id": "7UEG9nosNXIS"
      },
      "source": [
        "import tweepy\n",
        "from textblob import TextBlob"
      ],
      "execution_count": 1,
      "outputs": []
    },
    {
      "cell_type": "code",
      "metadata": {
        "id": "ukaW7MjENdRq"
      },
      "source": [
        "consumer_key = 'CONSUMER_KEY'\n",
        "consumer_secret = 'CONSUMER_SECRET'\n",
        "access_token = 'ACCESS_TOKEN'\n",
        "access_token_secret = 'ACCESS_TOKEN_SECRET'"
      ],
      "execution_count": 2,
      "outputs": []
    },
    {
      "cell_type": "code",
      "metadata": {
        "id": "Kaqj-tpZNf2s"
      },
      "source": [
        "auth = tweepy.OAuthHandler(consumer_key, consumer_secret)\n",
        "auth.set_access_token(access_token, access_token_secret)\n",
        "api = tweepy.API(auth)\n",
        "public_tweets = api.search('COVID-19 vaccine')"
      ],
      "execution_count": 3,
      "outputs": []
    },
    {
      "cell_type": "code",
      "metadata": {
        "colab": {
          "base_uri": "https://localhost:8080/"
        },
        "id": "PS6FC960NifT",
        "outputId": "9d2e4827-8701-4bbf-ac36-ab1a364d920d"
      },
      "source": [
        "for tweet in public_tweets:\n",
        "    print(tweet.text)\n",
        "    analysis = TextBlob(tweet.text)\n",
        "    print(analysis.sentiment)\n",
        "    if analysis.sentiment[0]>0:\n",
        "        print('Positive')\n",
        "    elif analysis.sentiment[0]<0:\n",
        "        print('Negative')\n",
        "    else: \n",
        "        print('Neutral')"
      ],
      "execution_count": 4,
      "outputs": [
        {
          "output_type": "stream",
          "text": [
            "RT @ABSCBNNews: The plane carrying more Pfizer COVID-19 vaccine doses has landed at NAIA in Pasay City. \n",
            "\n",
            "It delivered over 2 million COVID…\n",
            "Sentiment(polarity=0.5, subjectivity=0.5)\n",
            "Positive\n",
            "You just can't make tgis kind of stupid shit up!!!!\n",
            "\n",
            "Washington's 'joints for jabs' COVID-19 vaccine program fallin… https://t.co/upR6jhUiSV\n",
            "Sentiment(polarity=-0.2294270833333333, subjectivity=0.9)\n",
            "Negative\n",
            "Moderna asks FDA to allow its COVID-19 vaccine for kids ages 12-17 https://t.co/ffG8Btw32d\n",
            "Sentiment(polarity=0.0, subjectivity=0.0)\n",
            "Neutral\n",
            "RT @SCBrewers: We’ve partnered with @scdhec to expand vaccine access in South Carolina! \n",
            "\n",
            "Beginning today, across the state, Guild members…\n",
            "Sentiment(polarity=0.0, subjectivity=0.0)\n",
            "Neutral\n",
            "RT @NBCNews: A hospital in Houston, Texas, has suspended 178 of its staff members who have refused to abide by its mandate that employees b…\n",
            "Sentiment(polarity=0.0, subjectivity=0.0)\n",
            "Neutral\n",
            "RT @BoSnerdley: Texas hospital suspends nearly 200 workers for refusing to get COVID-19 vaccine https://t.co/1cyV4fEVgo via @cbsmoneywatch…\n",
            "Sentiment(polarity=0.1, subjectivity=0.4)\n",
            "Positive\n",
            "RT @VaxHuntersCan: [ON] PICKERING\n",
            "DOSE 1: 18+\n",
            "DOSE 2: 70+, 1st dose on/before April 18, AZ 1st dose 12 + wks ago\n",
            "People's Choice Drug Mart:…\n",
            "Sentiment(polarity=-0.75, subjectivity=1.0)\n",
            "Negative\n",
            "RT @HMGMidlands: If you're aged 25 or over, or if you turn 25 before 1 July 2021, you can now book your COVID-19 vaccine.\n",
            "\n",
            "Book your vaccin…\n",
            "Sentiment(polarity=-0.1, subjectivity=0.4)\n",
            "Negative\n",
            "#US will not seek favours for #Covid-19 vaccine donations - senior official https://t.co/CI58szeZZY\n",
            "Sentiment(polarity=0.0, subjectivity=0.0)\n",
            "Neutral\n",
            "RT @HerdImmunityPH: Today marks the biggest single-day vaccine delivery of COVID-19 vaccines for the Philippines! 💉\n",
            "\n",
            "With the arrival of 1M…\n",
            "Sentiment(polarity=0.0, subjectivity=0.0)\n",
            "Neutral\n",
            "RT @FoxNews: Moderna seeks COVID-19 vaccine authorization for teens\n",
            "\n",
            "https://t.co/bPInFberFz\n",
            "Sentiment(polarity=0.0, subjectivity=0.0)\n",
            "Neutral\n",
            "RT @TBDHealthUnit: Residents of Oliver Paipoonge, Neebing, O'Connor,  Conmee and Gillies &amp; nearby unincorporated areas can get their COVID-…\n",
            "Sentiment(polarity=0.0, subjectivity=0.0)\n",
            "Neutral\n",
            "RT @SurajCh4248417: Maharashtra &amp; Karnataka stop COVID-19 jabs for 18 - 44 age group !\n",
            "\n",
            "Check it out - https://t.co/AOYYbSRaoJ\n",
            "#aajtak \n",
            "#ab…\n",
            "Sentiment(polarity=0.0, subjectivity=0.0)\n",
            "Neutral\n",
            "RT @NBCNews: A hospital in Houston, Texas, has suspended 178 of its staff members who have refused to abide by its mandate that employees b…\n",
            "Sentiment(polarity=0.0, subjectivity=0.0)\n",
            "Neutral\n",
            "RT @LongTimeAmy: TODAY IN HISTORY\n",
            "\n",
            "📖1925 - Tennessee adopts a new biology text book denying the theory of evolution.\n",
            "\n",
            "🧲2021 - Ohio nurse de…\n",
            "Sentiment(polarity=0.13636363636363635, subjectivity=0.45454545454545453)\n",
            "Positive\n"
          ],
          "name": "stdout"
        }
      ]
    }
  ]
}